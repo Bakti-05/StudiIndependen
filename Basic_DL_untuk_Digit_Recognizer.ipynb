{
  "nbformat": 4,
  "nbformat_minor": 0,
  "metadata": {
    "colab": {
      "name": "Basic DL untuk Digit Recognizer",
      "provenance": [],
      "collapsed_sections": [],
      "include_colab_link": true
    },
    "kernelspec": {
      "display_name": "Python 3",
      "language": "python",
      "name": "python3"
    },
    "language_info": {
      "codemirror_mode": {
        "name": "ipython",
        "version": 3
      },
      "file_extension": ".py",
      "mimetype": "text/x-python",
      "name": "python",
      "nbconvert_exporter": "python",
      "pygments_lexer": "ipython3",
      "version": "3.8.8"
    }
  },
  "cells": [
    {
      "cell_type": "markdown",
      "metadata": {
        "id": "view-in-github",
        "colab_type": "text"
      },
      "source": [
        "<a href=\"https://colab.research.google.com/github/Bakti-05/StudiIndependen/blob/main/Basic_DL_untuk_Digit_Recognizer.ipynb\" target=\"_parent\"><img src=\"https://colab.research.google.com/assets/colab-badge.svg\" alt=\"Open In Colab\"/></a>"
      ]
    },
    {
      "cell_type": "markdown",
      "metadata": {
        "id": "gVkW6pr-HlLs"
      },
      "source": [
        "![Orbit Future Academy](https://orbitfutureacademy.id/wp-content/uploads/2020/06/logo-2.jpg)"
      ]
    },
    {
      "cell_type": "markdown",
      "metadata": {
        "id": "DiAMiAbnK0Fr"
      },
      "source": [
        "## Deep Learnig Basic"
      ]
    },
    {
      "cell_type": "markdown",
      "metadata": {
        "id": "k9MI9L9gK4W5"
      },
      "source": [
        "Pada tutorial ini merujuk pada kuliah terkenal yang diampuh oleh Lex Fridman [lecture on Deep Learning Basics](https://www.youtube.com/watch?list=PLrAXtmErZgOeiKm4sgNOknGvNjby9efdf&v=O5xeyoRL95U) yang merupakan bagian [MIT Deep Learning](https://deeplearning.mit.edu).\n",
        "\n",
        "Tutorial basic ini akan mencoba untuk membuat model DL untuk salah satu kasus yang sangat terkenal, yaitu Digit Recognizer. Kita akan mencoba untuk mengajarkan komputer cara untuk 'melihat'\n",
        "\n",
        "Mungkin, akan sangat baik (disarankan) untuk mengikuti [seri kuliah deep learning MOOC Lex Fridman](https://deeplearning.mit.edu/)  "
      ]
    },
    {
      "cell_type": "markdown",
      "metadata": {
        "id": "Jyt0HDfAMdU2"
      },
      "source": [
        "Untuk menambah pengetahuan khusus nya basic fundation terkait DL, teman-teman bisa melihat [video NN Series dari 3blue1brown](https://youtu.be/aircAruvnKk)"
      ]
    },
    {
      "cell_type": "markdown",
      "metadata": {
        "id": "iVUsHPUxN0kq"
      },
      "source": [
        "Mari Mulai!"
      ]
    },
    {
      "cell_type": "code",
      "metadata": {
        "colab": {
          "base_uri": "https://localhost:8080/"
        },
        "id": "WBVbUSYHBl7L",
        "outputId": "12a8e657-ae20-42be-f6ef-e9ff8350e835"
      },
      "source": [
        "# TensorFlow and tf.keras\n",
        "import tensorflow as tf\n",
        "from tensorflow import keras\n",
        "from tensorflow.keras.layers import Conv2D, MaxPooling2D, Dropout, Flatten, Dense\n",
        "\n",
        "# Commonly used modules\n",
        "import numpy as np\n",
        "import os\n",
        "import sys\n",
        "\n",
        "# Images, plots, display, and visualization\n",
        "import matplotlib.pyplot as plt\n",
        "import pandas as pd\n",
        "import seaborn as sns\n",
        "import cv2\n",
        "import IPython\n",
        "from six.moves import urllib\n",
        "\n",
        "print(tf.__version__)"
      ],
      "execution_count": null,
      "outputs": [
        {
          "output_type": "stream",
          "name": "stdout",
          "text": [
            "2.6.0\n"
          ]
        }
      ]
    },
    {
      "cell_type": "code",
      "metadata": {
        "id": "HDfpVezsBvdN"
      },
      "source": [
        "# Untuk mengubah versi tensorflow ke\n",
        "\n",
        "import tensorflow.compat.v1 as tf"
      ],
      "execution_count": null,
      "outputs": []
    },
    {
      "cell_type": "markdown",
      "metadata": {
        "id": "z-AIoW_NBl7R"
      },
      "source": [
        "## Classification of MNIST Dreams with Convolutional Neural Networks\n",
        "\n",
        "Sekarang, mari kita bikin model convolutional neural network (CNN) classifier untuk mengklasifikasi gambar dari handwritten digits dari data MNIST dataset"
      ]
    },
    {
      "cell_type": "code",
      "metadata": {
        "id": "f3poiN5wBl7R"
      },
      "source": [
        "# Set common constants\n",
        "this_repo_url = 'https://github.com/lexfridman/mit-deep-learning/raw/master/'\n",
        "this_tutorial_url = this_repo_url + 'tutorial_deep_learning_basics'"
      ],
      "execution_count": null,
      "outputs": []
    },
    {
      "cell_type": "markdown",
      "metadata": {
        "id": "NdVrfYw_Bl7R"
      },
      "source": [
        "MNIST dataset memiliki 70,000 grayscale gambar dari 'handwritten digits'\n",
        "yang memiliki resolution sebesar 28 kali 28 pixels. \n",
        "<img src=\"https://i.imgur.com/ITrm9x4.png\" width=\"500px\">\n",
        "\n",
        "Sekarang, mari kita kita (memuat) \"load the dataset\" yang merupakan gambar dengan 28x28 Numpy arrays, dengan pixel berada pada rentang dari 0 hingga 255 [0,255]. 255 pixel menyatakan ukuran rentang terbesar yang disimpan dalam komputer (dengan asumsi byte 8-bit). *Label* merupakan sebuah int array dengan rentang 0 hingga 9."
      ]
    },
    {
      "cell_type": "code",
      "metadata": {
        "colab": {
          "base_uri": "https://localhost:8080/"
        },
        "id": "cAXxhd-CBl7R",
        "outputId": "fe76d2f6-9bfd-4118-e8a3-def7070290dd"
      },
      "source": [
        "(train_images, train_labels), (test_images, test_labels) = keras.datasets.mnist.load_data()\n",
        "\n",
        "# reshape images to specify that it's a single channel\n",
        "train_images = train_images.reshape(train_images.shape[0], 28, 28, 1)\n",
        "test_images = test_images.reshape(test_images.shape[0], 28, 28, 1)"
      ],
      "execution_count": null,
      "outputs": [
        {
          "output_type": "stream",
          "name": "stdout",
          "text": [
            "Downloading data from https://storage.googleapis.com/tensorflow/tf-keras-datasets/mnist.npz\n",
            "11493376/11490434 [==============================] - 0s 0us/step\n",
            "11501568/11490434 [==============================] - 0s 0us/step\n"
          ]
        }
      ]
    },
    {
      "cell_type": "markdown",
      "metadata": {
        "id": "BcHvDBgeBl7S"
      },
      "source": [
        "Membuat perintah untuk melakukan klasifikasi biner (1 0) sebelum dimasukkan lagi ke dalam hiden layer/model jaringan syaraf. Untuk itu kita membagi nilai dengan 255, *traning set* dan *testing set* diproses dengan cara yang sama.\n"
      ]
    },
    {
      "cell_type": "code",
      "metadata": {
        "id": "sq6-qMBzBl7S"
      },
      "source": [
        "def preprocess_images(imgs): # should work for both a single image and multiple images\n",
        "    sample_img = imgs if len(imgs.shape) == 2 else imgs[0]\n",
        "    assert sample_img.shape in [(28, 28, 1), (28, 28)], sample_img.shape # make sure images are 28x28 and single-channel (grayscale)\n",
        "    return imgs / 255.0\n",
        "\n",
        "train_images = preprocess_images(train_images)\n",
        "test_images = preprocess_images(test_images)"
      ],
      "execution_count": null,
      "outputs": []
    },
    {
      "cell_type": "markdown",
      "metadata": {
        "id": "v9H6n4hCBl7S"
      },
      "source": [
        "Perintah untuk menampilkan 5 gambar pertama dari *training set* dan menampilkan nama class (class name) disetiap bawah dari gambar. \n",
        "\n",
        "Tujuan nya tentu untuk memastikan bahwa data sudah benar/cocok 'fit' dan kita siap untuk melanjutkan dengan membangun model.\n",
        "\n"
      ]
    },
    {
      "cell_type": "code",
      "metadata": {
        "colab": {
          "base_uri": "https://localhost:8080/",
          "height": 141
        },
        "id": "hs_npb-DBl7S",
        "outputId": "e0a2a54d-4746-41c7-ad71-be70198d30a4"
      },
      "source": [
        "plt.figure(figsize=(10,2))\n",
        "for i in range(5):\n",
        "    plt.subplot(1,5,i+1)\n",
        "    plt.xticks([])\n",
        "    plt.yticks([])\n",
        "    plt.grid(False)\n",
        "    plt.imshow(train_images[i].reshape(28, 28), cmap=plt.cm.binary)\n",
        "    plt.xlabel(train_labels[i])"
      ],
      "execution_count": null,
      "outputs": [
        {
          "output_type": "display_data",
          "data": {
            "image/png": "[encoded data removed]",
            "text/plain": [
              "<Figure size 720x144 with 5 Axes>"
            ]
          },
          "metadata": {}
        }
      ]
    },
    {
      "cell_type": "markdown",
      "metadata": {
        "id": "sCyrFe6HBl7S"
      },
      "source": [
        "### Build the model\n",
        "\n",
        "Membangun jaringan saraf memerlukan konfigurasi lapisan model"
      ]
    },
    {
      "cell_type": "code",
      "metadata": {
        "id": "xwyCFFeUBl7S"
      },
      "source": [
        "model = keras.Sequential()\n",
        "# 32 convolution filters used each of size 3x3\n",
        "model.add(Conv2D(32, kernel_size=(3, 3), activation='relu', input_shape=(28, 28, 1)))\n",
        "# 64 convolution filters used each of size 3x3\n",
        "model.add(Conv2D(64, (3, 3), activation='relu'))\n",
        "# choose the best features via pooling\n",
        "model.add(MaxPooling2D(pool_size=(2, 2)))\n",
        "# randomly turn neurons on and off to improve convergence\n",
        "model.add(Dropout(0.25))\n",
        "# flatten since too many dimensions, we only want a classification output\n",
        "model.add(Flatten())\n",
        "# fully connected to get all relevant data\n",
        "model.add(Dense(128, activation='relu'))\n",
        "# one more dropout\n",
        "model.add(Dropout(0.5))\n",
        "# output a softmax to squash the matrix into output probabilities\n",
        "model.add(Dense(10, activation='softmax'))"
      ],
      "execution_count": null,
      "outputs": []
    },
    {
      "cell_type": "markdown",
      "metadata": {
        "id": "uD09kNDzBl7S"
      },
      "source": [
        "Sebelum model benar-benar siap kita perlu melakukan tembahan/preparasi, dimana ini ditambahkan selama proses *compile* model, yang meliputi:\n",
        "\n",
        "* *Loss function* \n",
        "* *Optimizer* \n",
        "* *Metrics* \n",
        "\n",
        "diskusikan apa itu *Loss function*, *Optimizer*, *Metrics* "
      ]
    },
    {
      "cell_type": "code",
      "metadata": {
        "id": "K3s5gEiVBl7T"
      },
      "source": [
        "model.compile(optimizer=tf.train.AdamOptimizer(), \n",
        "              loss='sparse_categorical_crossentropy',\n",
        "              metrics=['accuracy'])"
      ],
      "execution_count": null,
      "outputs": []
    },
    {
      "cell_type": "markdown",
      "metadata": {
        "id": "qVLnRp6DBl7T"
      },
      "source": [
        "### Train the model\n",
        "\n",
        "Training model NN mengikuti langkah sebagai berikut: \n",
        "\n",
        "1. Masukkan data pelatihan ke model—dalam contoh ini, array `train_images` dan `train_labels`.\n",
        "2. Model *belajar* dengan mengasosi atau mengolah gambar dan label\n",
        "3. Kita membuat perintah untuk (meminta) model untuk membuat prediksi tentang set pengujian—dalam contoh ini, array `test_images`. Kita memverifikasi bahwa prediksi cocok dengan label dari array `test_labels`.\n",
        "\n",
        "Untuk memulai pelatihan, panggil metode `model.fit`—modelnya \"sesuai\" dengan data pelatihan:"
      ]
    },
    {
      "cell_type": "code",
      "metadata": {
        "colab": {
          "base_uri": "https://localhost:8080/"
        },
        "id": "mneqcTdQBl7T",
        "outputId": "9d6b2d7c-3d8b-4030-8246-347db9a11dbd"
      },
      "source": [
        "history = model.fit(train_images, train_labels, epochs=5)"
      ],
      "execution_count": null,
      "outputs": [
        {
          "output_type": "stream",
          "name": "stdout",
          "text": [
            "Epoch 1/5\n",
            "1875/1875 [==============================] - 163s 87ms/step - loss: 0.1882 - accuracy: 0.9432\n",
            "Epoch 2/5\n",
            "1875/1875 [==============================] - 163s 87ms/step - loss: 0.0816 - accuracy: 0.9757\n",
            "Epoch 3/5\n",
            "1875/1875 [==============================] - 163s 87ms/step - loss: 0.0603 - accuracy: 0.9816\n",
            "Epoch 4/5\n",
            "1875/1875 [==============================] - 164s 87ms/step - loss: 0.0503 - accuracy: 0.9844\n",
            "Epoch 5/5\n",
            "1875/1875 [==============================] - 165s 88ms/step - loss: 0.0410 - accuracy: 0.9872\n"
          ]
        }
      ]
    },
    {
      "cell_type": "markdown",
      "metadata": {
        "id": "-Ukc9xJ_Bl7T"
      },
      "source": [
        "Dilakukan epoch sebanyak 5 kali dan ketika model melakukan pelatihan/training, metrik loss function dan juga accuracy ditampilkan. Terlihat bahwa accuracy meningkat dengan semakin banyak nya jumlah epoch. Model ini mencapai akurasi sekitar 98,68% pada data pelatihan."
      ]
    },
    {
      "cell_type": "markdown",
      "metadata": {
        "id": "Oi_vQt0CBl7T"
      },
      "source": [
        "### Evaluate accuracy\n",
        "\n",
        "Langkah selanjutnya, yaitu membandingkan performa model pada test_dataset:"
      ]
    },
    {
      "cell_type": "code",
      "metadata": {
        "colab": {
          "base_uri": "https://localhost:8080/"
        },
        "id": "XNSpk4NzBl7U",
        "outputId": "84660844-6fef-464d-c109-b26896ddcf42"
      },
      "source": [
        "print(test_images.shape)\n",
        "test_loss, test_acc = model.evaluate(test_images, test_labels)\n",
        "\n",
        "print('Test accuracy:', test_acc)"
      ],
      "execution_count": null,
      "outputs": [
        {
          "output_type": "stream",
          "name": "stdout",
          "text": [
            "(10000, 28, 28, 1)\n",
            "313/313 [==============================] - 7s 21ms/step - loss: 0.0285 - accuracy: 0.9910\n",
            "Test accuracy: 0.9909999966621399\n"
          ]
        }
      ]
    },
    {
      "cell_type": "markdown",
      "metadata": {
        "id": "eHAb4rJ4Bl7U"
      },
      "source": [
        "Sering kali, akurasi pada dataset pengujian sedikit kurang dari akurasi pada dataset pelatihan. Diskusikan! \n"
      ]
    },
    {
      "cell_type": "markdown",
      "metadata": {
        "id": "RMNK_rB2XiA5"
      },
      "source": [
        "Kesenjangan antara akurasi pelatihan dan akurasi pengujian ini adalah contoh dari *overfitting*. Dalam kasus ini, akurasinya lebih baik di angka 99,19%!"
      ]
    },
    {
      "cell_type": "markdown",
      "metadata": {
        "id": "X1k3iQ-pBl7U"
      },
      "source": [
        "### Make predictions\n",
        "\n",
        "Dengan model yang dilatih, kita dapat menggunakannya untuk membuat prediksi tentang beberapa gambar. Untuk melihat bagaimana animasi ini dihasilkan, kunjungi [great blog post by hardmaru](http://blog.otoro.net/2016/04/01/generating-large-images-from-latent-vectors/) \n",
        "\n",
        "\n",
        "![MNIST dream](https://i.imgur.com/OrUJs9V.gif)"
      ]
    },
    {
      "cell_type": "code",
      "metadata": {
        "colab": {
          "base_uri": "https://localhost:8080/",
          "height": 235
        },
        "id": "IRa87ISOBl7U",
        "outputId": "f863462b-f88b-425b-d03a-3aad0d0f9674"
      },
      "source": [
        "mnist_dream_path = 'images/mnist_dream.mp4'\n",
        "mnist_prediction_path = 'images/mnist_dream_predicted.mp4'\n",
        "\n",
        "# download the video if running in Colab\n",
        "if not os.path.isfile(mnist_dream_path): \n",
        "    print('downloading the sample video...')\n",
        "    vid_url = this_tutorial_url + '/' + mnist_dream_path\n",
        "    \n",
        "    mnist_dream_path = urllib.request.urlretrieve(vid_url)[0]\n",
        "                                                                                                  \n",
        "def cv2_imshow(img):\n",
        "    ret = cv2.imencode('.png', img)[1].tobytes() \n",
        "    img_ip = IPython.display.Image(data=ret)\n",
        "    IPython.display.display(img_ip)\n",
        "\n",
        "cap = cv2.VideoCapture(mnist_dream_path) \n",
        "vw = None\n",
        "frame = -1 # counter for debugging (mostly), 0-indexed\n",
        "\n",
        "# go through all the frames and run our classifier on the high res MNIST images as they morph from number to number\n",
        "while True: # should 481 frames\n",
        "    frame += 1\n",
        "    ret, img = cap.read()\n",
        "    if not ret: break\n",
        "               \n",
        "    assert img.shape[0] == img.shape[1] # should be a square\n",
        "    if img.shape[0] != 720:\n",
        "        img = cv2.resize(img, (720, 720))\n",
        "       \n",
        "    #preprocess the image for prediction\n",
        "    img_proc = cv2.cvtColor(img, cv2.COLOR_BGR2GRAY)\n",
        "    img_proc = cv2.resize(img_proc, (28, 28))\n",
        "    img_proc = preprocess_images(img_proc)\n",
        "    img_proc = 1 - img_proc # inverse since training dataset is white text with black background\n",
        "\n",
        "    net_in = np.expand_dims(img_proc, axis=0) # expand dimension to specify batch size of 1\n",
        "    net_in = np.expand_dims(net_in, axis=3) # expand dimension to specify number of channels\n",
        "    \n",
        "    preds = model.predict(net_in)[0]\n",
        "    guess = np.argmax(preds)\n",
        "    perc = np.rint(preds * 100).astype(int)\n",
        "    \n",
        "    img = 255 - img\n",
        "    pad_color = 0\n",
        "    img = np.pad(img, ((0,0), (0,1280-720), (0,0)), mode='constant', constant_values=(pad_color))  \n",
        "    \n",
        "    line_type = cv2.LINE_AA\n",
        "    font_face = cv2.FONT_HERSHEY_SIMPLEX\n",
        "    font_scale = 1.3        \n",
        "    thickness = 2\n",
        "    x, y = 740, 60\n",
        "    color = (255, 255, 255)\n",
        "    \n",
        "    text = \"Neural Network Output:\"\n",
        "    cv2.putText(img, text=text, org=(x, y), fontScale=font_scale, fontFace=font_face, thickness=thickness,\n",
        "                    color=color, lineType=line_type)\n",
        "    \n",
        "    text = \"Input:\"\n",
        "    cv2.putText(img, text=text, org=(30, y), fontScale=font_scale, fontFace=font_face, thickness=thickness,\n",
        "                    color=color, lineType=line_type)   \n",
        "        \n",
        "    y = 130\n",
        "    for i, p in enumerate(perc):\n",
        "        if i == guess: color = (255, 218, 158)\n",
        "        else: color = (100, 100, 100)\n",
        "            \n",
        "        rect_width = 0\n",
        "        if p > 0: rect_width = int(p * 3.3)\n",
        "        \n",
        "        rect_start = 180\n",
        "        cv2.rectangle(img, (x+rect_start, y-5), (x+rect_start+rect_width, y-20), color, -1)\n",
        "\n",
        "        text = '{}: {:>3}%'.format(i, int(p))\n",
        "        cv2.putText(img, text=text, org=(x, y), fontScale=font_scale, fontFace=font_face, thickness=thickness,\n",
        "                    color=color, lineType=line_type)\n",
        "        y += 60\n",
        "    \n",
        "    # if you don't want to save the output as a video, set this to False\n",
        "    save_video = True\n",
        "    \n",
        "    if save_video:\n",
        "        if vw is None:\n",
        "            codec = cv2.VideoWriter_fourcc(*'DIVX')\n",
        "            vid_width_height = img.shape[1], img.shape[0]\n",
        "            vw = cv2.VideoWriter(mnist_prediction_path, codec, 30, vid_width_height)\n",
        "        # 15 fps above doesn't work robustly so we right frame twice at 30 fps\n",
        "        vw.write(img)\n",
        "        vw.write(img)\n",
        "    \n",
        "    # scale down image for display\n",
        "    img_disp = cv2.resize(img, (0,0), fx=0.5, fy=0.5)\n",
        "    cv2_imshow(img_disp)\n",
        "    IPython.display.clear_output(wait=True)\n",
        "        \n",
        "cap.release()\n",
        "if vw is not None:\n",
        "    vw.release()"
      ],
      "execution_count": null,
      "outputs": [
        {
          "output_type": "error",
          "ename": "NameError",
          "evalue": "ignored",
          "traceback": [
            "\u001b[0;31m---------------------------------------------------------------------------\u001b[0m",
            "\u001b[0;31mNameError\u001b[0m                                 Traceback (most recent call last)",
            "\u001b[0;32m<ipython-input-1-32a1aee87b7c>\u001b[0m in \u001b[0;36m<module>\u001b[0;34m()\u001b[0m\n\u001b[1;32m      3\u001b[0m \u001b[0;34m\u001b[0m\u001b[0m\n\u001b[1;32m      4\u001b[0m \u001b[0;31m# download the video if running in Colab\u001b[0m\u001b[0;34m\u001b[0m\u001b[0;34m\u001b[0m\u001b[0;34m\u001b[0m\u001b[0m\n\u001b[0;32m----> 5\u001b[0;31m \u001b[0;32mif\u001b[0m \u001b[0;32mnot\u001b[0m \u001b[0mos\u001b[0m\u001b[0;34m.\u001b[0m\u001b[0mpath\u001b[0m\u001b[0;34m.\u001b[0m\u001b[0misfile\u001b[0m\u001b[0;34m(\u001b[0m\u001b[0mmnist_dream_path\u001b[0m\u001b[0;34m)\u001b[0m\u001b[0;34m:\u001b[0m\u001b[0;34m\u001b[0m\u001b[0;34m\u001b[0m\u001b[0m\n\u001b[0m\u001b[1;32m      6\u001b[0m     \u001b[0mprint\u001b[0m\u001b[0;34m(\u001b[0m\u001b[0;34m'downloading the sample video...'\u001b[0m\u001b[0;34m)\u001b[0m\u001b[0;34m\u001b[0m\u001b[0;34m\u001b[0m\u001b[0m\n\u001b[1;32m      7\u001b[0m     \u001b[0mvid_url\u001b[0m \u001b[0;34m=\u001b[0m \u001b[0mthis_tutorial_url\u001b[0m \u001b[0;34m+\u001b[0m \u001b[0;34m'/'\u001b[0m \u001b[0;34m+\u001b[0m \u001b[0mmnist_dream_path\u001b[0m\u001b[0;34m\u001b[0m\u001b[0;34m\u001b[0m\u001b[0m\n",
            "\u001b[0;31mNameError\u001b[0m: name 'os' is not defined"
          ]
        }
      ]
    },
    {
      "cell_type": "markdown",
      "metadata": {
        "id": "c47u-EhIBl7U"
      },
      "source": [
        "Di atas menunjukkan prediksi jaringan dengan memilih neuron dengan output tertinggi.\n",
        "\n",
        "Jika semuanya berjalan dengan benar, Anda akan mendapatkan animasi seperti ini, ketika proses running\n",
        "\n",
        "![MNIST dream predictions](https://i.imgur.com/eMF9FOG.gif)"
      ]
    },
    {
      "cell_type": "markdown",
      "metadata": {
        "id": "uIOmESmtaJcD"
      },
      "source": [
        "### Conclusion"
      ]
    },
    {
      "cell_type": "markdown",
      "metadata": {
        "id": "bfPiGEvqaOqI"
      },
      "source": [
        "Kita telah mempelajari basic dari deep learning untuk kasus klasifikasi. Selanjutnya, kita bisa mencoba hal lain dan seperti kata Steve Jobs, \"Stay Hungry, Stay Foolish\"\n",
        "\n",
        ".................................................................................................................................................................................................................................\n",
        "\n",
        "\n",
        "\n",
        "\n",
        "[Steve Jobs' 2005 Stanford Commencement Address](https://youtu.be/UF8uR6Z6KLc)\n",
        "\n",
        "[Deep Learning State of the Art (2020)](https://youtu.be/0VH1Lim8gL8)\n",
        "\n",
        "[MIT 6.S191 (2020): Convolutional Neural Networks](https://youtu.be/iaSUYvmCekI)\n",
        "\n",
        ".................................................................................................................................................................................................................................\n",
        "\n",
        "Selanjutnya, dapat melakukan aktivitas sederhana dengan mengklik tautan\n",
        "[Aktivitas Sederhana: Simulasi Digit Recognizer](https://www.cs.ryerson.ca/~aharley/vis/conv/flat.html)"
      ]
    },
    {
      "cell_type": "markdown",
      "metadata": {
        "id": "dRLq-xsBfC53"
      },
      "source": [
        "Konten ini tidak mungkin dapat tercipta tanpa MOOC Deep Learning MIT by Lex Fridman"
      ]
    }
  ]
}